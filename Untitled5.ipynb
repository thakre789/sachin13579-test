{
 "cells": [
  {
   "cell_type": "markdown",
   "id": "2a1ee8be",
   "metadata": {},
   "source": [
    "# ans 1"
   ]
  },
  {
   "cell_type": "code",
   "execution_count": 1,
   "id": "5050a9db",
   "metadata": {},
   "outputs": [
    {
     "ename": "SyntaxError",
     "evalue": "invalid syntax (1138676209.py, line 1)",
     "output_type": "error",
     "traceback": [
      "\u001b[1;36m  Input \u001b[1;32mIn [1]\u001b[1;36m\u001b[0m\n\u001b[1;33m    1.True\u001b[0m\n\u001b[1;37m      ^\u001b[0m\n\u001b[1;31mSyntaxError\u001b[0m\u001b[1;31m:\u001b[0m invalid syntax\n"
     ]
    }
   ],
   "source": [
    "1.True\n",
    "2.False"
   ]
  },
  {
   "cell_type": "markdown",
   "id": "a6e503f4",
   "metadata": {},
   "source": [
    "# ans 2"
   ]
  },
  {
   "cell_type": "code",
   "execution_count": null,
   "id": "03559523",
   "metadata": {},
   "outputs": [],
   "source": [
    "And ,     Or    ,   Not"
   ]
  },
  {
   "cell_type": "markdown",
   "id": "c6abde1f",
   "metadata": {},
   "source": [
    "# ans 3"
   ]
  },
  {
   "cell_type": "code",
   "execution_count": null,
   "id": "7678128e",
   "metadata": {},
   "outputs": [],
   "source": [
    "and gate \n",
    "i/p - o/p\n",
    "0 0 -  0            \n",
    "0 1 -  0\n",
    "1 o -  0\n",
    "1 1 -  1\n",
    "\n",
    "or gate\n",
    "i/p - o/p\n",
    "0 0 - 0\n",
    "0 1 - 1\n",
    "1 0 - 1\n",
    "1 1 - 1\n",
    "\n",
    "not gate\n",
    "i/p - o/p\n",
    "1   - 0\n",
    "0   - 1\n",
    "\n"
   ]
  },
  {
   "cell_type": "markdown",
   "id": "930b5463",
   "metadata": {},
   "source": [
    "# ans 4"
   ]
  },
  {
   "cell_type": "code",
   "execution_count": null,
   "id": "7feaff1a",
   "metadata": {},
   "outputs": [],
   "source": [
    "(5 > 4)and (3==5)"
   ]
  },
  {
   "cell_type": "code",
   "execution_count": null,
   "id": "8225494b",
   "metadata": {},
   "outputs": [],
   "source": [
    "not(5>4)"
   ]
  },
  {
   "cell_type": "code",
   "execution_count": null,
   "id": "3542dc32",
   "metadata": {},
   "outputs": [],
   "source": [
    "(5 >  4 )or(3==5)"
   ]
  },
  {
   "cell_type": "code",
   "execution_count": null,
   "id": "694e420d",
   "metadata": {},
   "outputs": [],
   "source": [
    "not((5>4)or(3==5))"
   ]
  },
  {
   "cell_type": "code",
   "execution_count": null,
   "id": "23223c8a",
   "metadata": {},
   "outputs": [],
   "source": [
    "(True and True)and (True==False)"
   ]
  },
  {
   "cell_type": "code",
   "execution_count": null,
   "id": "5417e303",
   "metadata": {},
   "outputs": [],
   "source": [
    "(not False)or(not True)"
   ]
  },
  {
   "cell_type": "markdown",
   "id": "301db818",
   "metadata": {},
   "source": [
    "# ans 5"
   ]
  },
  {
   "cell_type": "code",
   "execution_count": null,
   "id": "e953395b",
   "metadata": {},
   "outputs": [],
   "source": [
    "comparison operators\n",
    "==\n",
    ">\n",
    "<\n",
    "<=\n",
    ">=\n",
    "!=\n"
   ]
  },
  {
   "cell_type": "markdown",
   "id": "4f2537fd",
   "metadata": {},
   "source": [
    "# ans 6"
   ]
  },
  {
   "cell_type": "code",
   "execution_count": null,
   "id": "74192a1b",
   "metadata": {},
   "outputs": [],
   "source": [
    "= is used for assigning the value of variable .\n",
    "\n",
    "== is used for comparing the value of two variables.It returns  \n",
    "1 if both the values are equal otherwise return 0.\n",
    "\n",
    "ex. a=10,assigns 10 to a variable.\n",
    "\n",
    "(a==10)checks if variable a is equal to 10 or not.\n",
    "\n"
   ]
  },
  {
   "cell_type": "markdown",
   "id": "1ad177c6",
   "metadata": {},
   "source": [
    "# ans 7"
   ]
  },
  {
   "cell_type": "code",
   "execution_count": null,
   "id": "9f07b962",
   "metadata": {},
   "outputs": [],
   "source": [
    "block 1 \n",
    "spam = 0\n",
    "\n",
    "block 2\n",
    "if spam ==10:\n",
    "    print ('eggs')\n",
    "    \n",
    "block 3 \n",
    "if spam > 5:\n",
    "    print('bacon')\n",
    "else:\n",
    "    print('ham')\n",
    "    print('spam')\n",
    "    print('spam')\n",
    "        \n"
   ]
  },
  {
   "cell_type": "markdown",
   "id": "bfd1112e",
   "metadata": {},
   "source": [
    "# ans 8"
   ]
  },
  {
   "cell_type": "code",
   "execution_count": 2,
   "id": "218aaef9",
   "metadata": {},
   "outputs": [
    {
     "name": "stdout",
     "output_type": "stream",
     "text": [
      "enter the value 2\n",
      "Howdy\n"
     ]
    }
   ],
   "source": [
    "spam=int(input('enter the value'))\n",
    "if spam==1:\n",
    "    print('Hello')\n",
    "elif spam==2:\n",
    "    print('Howdy')\n",
    "else:\n",
    "    print('Greetings!')"
   ]
  }
 ],
 "metadata": {
  "kernelspec": {
   "display_name": "Python 3 (ipykernel)",
   "language": "python",
   "name": "python3"
  },
  "language_info": {
   "codemirror_mode": {
    "name": "ipython",
    "version": 3
   },
   "file_extension": ".py",
   "mimetype": "text/x-python",
   "name": "python",
   "nbconvert_exporter": "python",
   "pygments_lexer": "ipython3",
   "version": "3.9.12"
  }
 },
 "nbformat": 4,
 "nbformat_minor": 5
}
