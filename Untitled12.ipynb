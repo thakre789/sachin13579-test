{
 "cells": [
  {
   "cell_type": "markdown",
   "id": "8f39204e",
   "metadata": {},
   "source": [
    "# ans 1"
   ]
  },
  {
   "cell_type": "code",
   "execution_count": 1,
   "id": "4cc87ca7",
   "metadata": {},
   "outputs": [
    {
     "name": "stdout",
     "output_type": "stream",
     "text": [
      "enter the value in kilometer6\n",
      "the value of miles=  3.72822\n"
     ]
    }
   ],
   "source": [
    "km=float(input('enter the value in kilometer'))\n",
    "miles= km * (0.62137)\n",
    "print('the value of miles= ',miles)"
   ]
  },
  {
   "cell_type": "markdown",
   "id": "8b3929a7",
   "metadata": {},
   "source": [
    "# ans 2"
   ]
  },
  {
   "cell_type": "code",
   "execution_count": 2,
   "id": "ed328aa1",
   "metadata": {},
   "outputs": [
    {
     "name": "stdout",
     "output_type": "stream",
     "text": [
      "enter the value in celcius37\n",
      "the value in fahrenheit= 98.60000000000001\n"
     ]
    }
   ],
   "source": [
    "\n",
    "celcius=float(input('enter the value in celcius'))\n",
    "fahrenheite=(celcius*1.8)+32\n",
    "print('the value in fahrenheit=',fahrenheite)\n",
    "\n",
    "\n"
   ]
  },
  {
   "cell_type": "markdown",
   "id": "4e364699",
   "metadata": {},
   "source": [
    "# ans 3"
   ]
  },
  {
   "cell_type": "code",
   "execution_count": 5,
   "id": "10fa1d01",
   "metadata": {},
   "outputs": [
    {
     "name": "stdout",
     "output_type": "stream",
     "text": [
      "enter the year: 2022\n",
      "enter the month: 7\n",
      "     July 2022\n",
      "Mo Tu We Th Fr Sa Su\n",
      "             1  2  3\n",
      " 4  5  6  7  8  9 10\n",
      "11 12 13 14 15 16 17\n",
      "18 19 20 21 22 23 24\n",
      "25 26 27 28 29 30 31\n",
      "\n"
     ]
    }
   ],
   "source": [
    "import calendar\n",
    "year=int(input('enter the year: '))\n",
    "month=int(input('enter the month: '))\n",
    "mycal=calendar.month(year,month)\n",
    "print(mycal)\n",
    "\n",
    "\n"
   ]
  },
  {
   "cell_type": "markdown",
   "id": "0765abb8",
   "metadata": {},
   "source": [
    "# ans 4"
   ]
  },
  {
   "cell_type": "code",
   "execution_count": 6,
   "id": "169b9c45",
   "metadata": {},
   "outputs": [
    {
     "name": "stdout",
     "output_type": "stream",
     "text": [
      "enter the coefficient a1\n",
      "enter the coefficient of b5\n",
      "enter the coefficient of c6\n",
      "roots are real and unequal -2.0 -3.0\n"
     ]
    }
   ],
   "source": [
    "import math\n",
    "a=float(input('enter the coefficient a'))\n",
    "b=float(input('enter the coefficient of b'))\n",
    "c=float(input('enter the coefficient of c'))\n",
    "d=b*b-4*a*c\n",
    "if d>0:\n",
    "    r1=(-b+math.sqrt(d))/(2*a)\n",
    "    r2=(-b-math.sqrt(d))/(2*a)\n",
    "    print('roots are real and unequal' ,r1 , r2)\n",
    "elif d==0:\n",
    "    r1=-b/(2*a)\n",
    "    print('roots are real and same',r1)\n",
    "else:\n",
    "    print('No real roots are there')"
   ]
  },
  {
   "cell_type": "markdown",
   "id": "0198720d",
   "metadata": {},
   "source": [
    "# ans 5"
   ]
  },
  {
   "cell_type": "code",
   "execution_count": 8,
   "id": "57488dc0",
   "metadata": {},
   "outputs": [
    {
     "name": "stdout",
     "output_type": "stream",
     "text": [
      "please enter first number a: 7\n",
      "please enter second number b: 2\n",
      "After swapping\n",
      "value of a is:  2\n",
      "value of b is:  7\n"
     ]
    }
   ],
   "source": [
    "a=int(input('please enter first number a: '))\n",
    "b=int(input('please enter second number b: '))\n",
    "a=a-b\n",
    "b=a+b\n",
    "a=b-a\n",
    "print('After swapping')\n",
    "print('value of a is: ',a)\n",
    "print('value of b is: ',b)\n",
    "\n",
    "\n",
    "\n"
   ]
  },
  {
   "cell_type": "code",
   "execution_count": null,
   "id": "dc5812fe",
   "metadata": {},
   "outputs": [],
   "source": []
  }
 ],
 "metadata": {
  "kernelspec": {
   "display_name": "Python 3 (ipykernel)",
   "language": "python",
   "name": "python3"
  },
  "language_info": {
   "codemirror_mode": {
    "name": "ipython",
    "version": 3
   },
   "file_extension": ".py",
   "mimetype": "text/x-python",
   "name": "python",
   "nbconvert_exporter": "python",
   "pygments_lexer": "ipython3",
   "version": "3.9.12"
  }
 },
 "nbformat": 4,
 "nbformat_minor": 5
}
