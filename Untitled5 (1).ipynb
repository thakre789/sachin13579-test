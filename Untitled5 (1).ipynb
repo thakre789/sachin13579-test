{
 "cells": [
  {
   "cell_type": "markdown",
   "id": "7a114653",
   "metadata": {},
   "source": [
    "# ans 1\n"
   ]
  },
  {
   "cell_type": "code",
   "execution_count": null,
   "id": "98a0243e",
   "metadata": {},
   "outputs": [],
   "source": [
    "True ,False"
   ]
  },
  {
   "cell_type": "markdown",
   "id": "c429ce8a",
   "metadata": {},
   "source": [
    "# ans 2"
   ]
  },
  {
   "cell_type": "code",
   "execution_count": null,
   "id": "3ebd714a",
   "metadata": {},
   "outputs": [],
   "source": [
    "And ,     Or    ,   Not"
   ]
  },
  {
   "cell_type": "markdown",
   "id": "93bfcfd6",
   "metadata": {},
   "source": [
    "# ans 3"
   ]
  },
  {
   "cell_type": "code",
   "execution_count": null,
   "id": "a50820f5",
   "metadata": {},
   "outputs": [],
   "source": [
    "and gate \n",
    "i/p - o/p\n",
    "0 0 -  0            \n",
    "0 1 -  0\n",
    "1 o -  0\n",
    "1 1 -  1\n",
    "\n",
    "or gate\n",
    "i/p - o/p\n",
    "0 0 - 0\n",
    "0 1 - 1\n",
    "1 0 - 1\n",
    "1 1 - 1\n",
    "\n",
    "not gate\n",
    "i/p - o/p\n",
    "1   - 0\n",
    "0   - 1\n",
    "\n"
   ]
  },
  {
   "cell_type": "markdown",
   "id": "7823352f",
   "metadata": {},
   "source": [
    "# ans 4"
   ]
  },
  {
   "cell_type": "code",
   "execution_count": 3,
   "id": "1b2ff6d9",
   "metadata": {},
   "outputs": [
    {
     "data": {
      "text/plain": [
       "False"
      ]
     },
     "execution_count": 3,
     "metadata": {},
     "output_type": "execute_result"
    }
   ],
   "source": [
    "(5 > 4)and (3==5)"
   ]
  },
  {
   "cell_type": "code",
   "execution_count": 4,
   "id": "e385c555",
   "metadata": {},
   "outputs": [
    {
     "data": {
      "text/plain": [
       "False"
      ]
     },
     "execution_count": 4,
     "metadata": {},
     "output_type": "execute_result"
    }
   ],
   "source": [
    "not(5>4)"
   ]
  },
  {
   "cell_type": "code",
   "execution_count": 5,
   "id": "e98b968c",
   "metadata": {},
   "outputs": [
    {
     "data": {
      "text/plain": [
       "True"
      ]
     },
     "execution_count": 5,
     "metadata": {},
     "output_type": "execute_result"
    }
   ],
   "source": [
    "(5 >  4 )or(3==5)"
   ]
  },
  {
   "cell_type": "code",
   "execution_count": 6,
   "id": "47731c67",
   "metadata": {},
   "outputs": [
    {
     "data": {
      "text/plain": [
       "False"
      ]
     },
     "execution_count": 6,
     "metadata": {},
     "output_type": "execute_result"
    }
   ],
   "source": [
    "not((5>4)or(3==5))"
   ]
  },
  {
   "cell_type": "code",
   "execution_count": 7,
   "id": "d076be37",
   "metadata": {},
   "outputs": [
    {
     "data": {
      "text/plain": [
       "False"
      ]
     },
     "execution_count": 7,
     "metadata": {},
     "output_type": "execute_result"
    }
   ],
   "source": [
    "(True and True)and (True==False)"
   ]
  },
  {
   "cell_type": "code",
   "execution_count": 8,
   "id": "b3b48bd1",
   "metadata": {},
   "outputs": [
    {
     "data": {
      "text/plain": [
       "True"
      ]
     },
     "execution_count": 8,
     "metadata": {},
     "output_type": "execute_result"
    }
   ],
   "source": [
    "(not False)or(not True)"
   ]
  },
  {
   "cell_type": "markdown",
   "id": "af3eed34",
   "metadata": {},
   "source": [
    "# ans 5"
   ]
  },
  {
   "cell_type": "code",
   "execution_count": null,
   "id": "93150b4e",
   "metadata": {},
   "outputs": [],
   "source": [
    "comparison operators\n",
    "==\n",
    ">\n",
    "<\n",
    "<=\n",
    ">=\n",
    "!=\n"
   ]
  },
  {
   "cell_type": "markdown",
   "id": "b3f6e8f0",
   "metadata": {},
   "source": [
    "# ans 6"
   ]
  },
  {
   "cell_type": "code",
   "execution_count": null,
   "id": "408bd074",
   "metadata": {},
   "outputs": [],
   "source": [
    "= is used for assigning the value of variable .\n",
    "\n",
    "== is used for comparing the value of two variables.It returns  \n",
    "1 if both the values are equal otherwise return 0.\n",
    "\n",
    "ex. a=10,assigns 10 to a variable.\n",
    "\n",
    "(a==10)checks if variable a is equal to 10 or not.\n",
    "\n"
   ]
  },
  {
   "cell_type": "markdown",
   "id": "ebc8e55e",
   "metadata": {},
   "source": [
    "# ans 7"
   ]
  },
  {
   "cell_type": "code",
   "execution_count": null,
   "id": "103d7333",
   "metadata": {},
   "outputs": [],
   "source": [
    "block 1 \n",
    "spam = 0\n",
    "\n",
    "block 2\n",
    "if spam ==10:\n",
    "    print ('eggs')\n",
    "    \n",
    "block 3 \n",
    "if spam > 5:\n",
    "    print('bacon')\n",
    "else:\n",
    "    print('ham')\n",
    "    print('spam')\n",
    "    print('spam')\n",
    "        \n"
   ]
  },
  {
   "cell_type": "markdown",
   "id": "61470ed2",
   "metadata": {},
   "source": [
    "# ans 8"
   ]
  },
  {
   "cell_type": "code",
   "execution_count": 2,
   "id": "ace5a6ac",
   "metadata": {},
   "outputs": [
    {
     "name": "stdout",
     "output_type": "stream",
     "text": [
      "enter the value 2\n",
      "Howdy\n"
     ]
    }
   ],
   "source": [
    "spam=int(input('enter the value'))\n",
    "if spam==1:\n",
    "    print('Hello')\n",
    "elif spam==2:\n",
    "    print('Howdy')\n",
    "else:\n",
    "    print('Greetings!')"
   ]
  }
 ],
 "metadata": {
  "kernelspec": {
   "display_name": "Python 3 (ipykernel)",
   "language": "python",
   "name": "python3"
  },
  "language_info": {
   "codemirror_mode": {
    "name": "ipython",
    "version": 3
   },
   "file_extension": ".py",
   "mimetype": "text/x-python",
   "name": "python",
   "nbconvert_exporter": "python",
   "pygments_lexer": "ipython3",
   "version": "3.9.12"
  }
 },
 "nbformat": 4,
 "nbformat_minor": 5
}
