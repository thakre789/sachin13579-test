{
 "cells": [
  {
   "cell_type": "markdown",
   "id": "f2d2fc19",
   "metadata": {},
   "source": [
    "# ans 1 \n"
   ]
  },
  {
   "cell_type": "code",
   "execution_count": 1,
   "id": "f2fd1743",
   "metadata": {},
   "outputs": [
    {
     "name": "stdout",
     "output_type": "stream",
     "text": [
      "Hello python\n"
     ]
    }
   ],
   "source": [
    "print('Hello python')"
   ]
  },
  {
   "cell_type": "markdown",
   "id": "41011273",
   "metadata": {},
   "source": [
    "# ans 2 \n"
   ]
  },
  {
   "cell_type": "code",
   "execution_count": 2,
   "id": "9f04851f",
   "metadata": {},
   "outputs": [
    {
     "name": "stdout",
     "output_type": "stream",
     "text": [
      "enter the valur of number 1     16\n",
      "enter the value of number 2       4\n",
      "20\n",
      "4.0\n"
     ]
    }
   ],
   "source": [
    "a=int(input('enter the valur of number 1'))\n",
    "b=int(input('enter the value of number 2'))\n",
    "print(a+b)\n",
    "print(a/b)"
   ]
  },
  {
   "cell_type": "markdown",
   "id": "5b13c19b",
   "metadata": {},
   "source": [
    "# ans 3"
   ]
  },
  {
   "cell_type": "code",
   "execution_count": 8,
   "id": "36395981",
   "metadata": {},
   "outputs": [
    {
     "name": "stdout",
     "output_type": "stream",
     "text": [
      "enter the value of base    60\n",
      "enter the value of height    30\n",
      "Area = 900.0\n"
     ]
    }
   ],
   "source": [
    "base=int(input('enter the value of base'))\n",
    "height=int(input('enter the value of height'))\n",
    "Area = (1/2) * base * height\n",
    "print('Area =',Area)"
   ]
  },
  {
   "cell_type": "markdown",
   "id": "6b567a14",
   "metadata": {},
   "source": [
    "# ans 4 "
   ]
  },
  {
   "cell_type": "code",
   "execution_count": 5,
   "id": "cbc3bdc7",
   "metadata": {},
   "outputs": [
    {
     "name": "stdout",
     "output_type": "stream",
     "text": [
      "initial value of x = 34\n",
      "initial value of y= 56\n",
      "After swaping value of x= 56\n",
      "After swaping value of y= 34\n"
     ]
    }
   ],
   "source": [
    "x= 34\n",
    "y=56\n",
    "print('initial value of x =', x)\n",
    "print('initial value of y=', y)\n",
    "temp=x\n",
    "x=y\n",
    "y=temp\n",
    "print('After swaping value of x=' ,x)\n",
    "print('After swaping value of y=',y)\n",
    "      \n"
   ]
  },
  {
   "cell_type": "markdown",
   "id": "5e23ac27",
   "metadata": {},
   "source": [
    "# ans 5"
   ]
  },
  {
   "cell_type": "code",
   "execution_count": 6,
   "id": "6d869346",
   "metadata": {},
   "outputs": [
    {
     "name": "stdout",
     "output_type": "stream",
     "text": [
      "0.508900853702339\n"
     ]
    }
   ],
   "source": [
    "import random\n",
    "n = random.random()\n",
    "print(n)"
   ]
  }
 ],
 "metadata": {
  "kernelspec": {
   "display_name": "Python 3 (ipykernel)",
   "language": "python",
   "name": "python3"
  },
  "language_info": {
   "codemirror_mode": {
    "name": "ipython",
    "version": 3
   },
   "file_extension": ".py",
   "mimetype": "text/x-python",
   "name": "python",
   "nbconvert_exporter": "python",
   "pygments_lexer": "ipython3",
   "version": "3.9.12"
  }
 },
 "nbformat": 4,
 "nbformat_minor": 5
}
