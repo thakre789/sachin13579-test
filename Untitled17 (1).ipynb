{
 "cells": [
  {
   "cell_type": "markdown",
   "id": "fd0b92f6",
   "metadata": {},
   "source": [
    "# ans 1"
   ]
  },
  {
   "cell_type": "code",
   "execution_count": null,
   "id": "6b02e7b1",
   "metadata": {},
   "outputs": [],
   "source": [
    "[] means list data structure in python."
   ]
  },
  {
   "cell_type": "markdown",
   "id": "dcc3b113",
   "metadata": {},
   "source": [
    "# ans 2"
   ]
  },
  {
   "cell_type": "code",
   "execution_count": 6,
   "id": "28bccd31",
   "metadata": {},
   "outputs": [],
   "source": [
    "spam=[2,4,6,8,10]\n",
    "spam.insert(2,'hello')"
   ]
  },
  {
   "cell_type": "code",
   "execution_count": 7,
   "id": "cdfd3453",
   "metadata": {},
   "outputs": [
    {
     "data": {
      "text/plain": [
       "[2, 4, 'hello', 6, 8, 10]"
      ]
     },
     "execution_count": 7,
     "metadata": {},
     "output_type": "execute_result"
    }
   ],
   "source": [
    "spam"
   ]
  },
  {
   "cell_type": "markdown",
   "id": "1a0b7752",
   "metadata": {},
   "source": [
    "# ans 3"
   ]
  },
  {
   "cell_type": "code",
   "execution_count": 8,
   "id": "2652213c",
   "metadata": {},
   "outputs": [
    {
     "data": {
      "text/plain": [
       "'d'"
      ]
     },
     "execution_count": 8,
     "metadata": {},
     "output_type": "execute_result"
    }
   ],
   "source": [
    "spam=['a','b','c','d']\n",
    "spam[int(int('3'*2)/11)]"
   ]
  },
  {
   "cell_type": "markdown",
   "id": "bc99b06e",
   "metadata": {},
   "source": [
    "# ans 4"
   ]
  },
  {
   "cell_type": "code",
   "execution_count": 9,
   "id": "6d9e4985",
   "metadata": {},
   "outputs": [
    {
     "data": {
      "text/plain": [
       "'d'"
      ]
     },
     "execution_count": 9,
     "metadata": {},
     "output_type": "execute_result"
    }
   ],
   "source": [
    "spam[-1]"
   ]
  },
  {
   "cell_type": "markdown",
   "id": "9aa5f091",
   "metadata": {},
   "source": [
    "# ans 5"
   ]
  },
  {
   "cell_type": "code",
   "execution_count": 11,
   "id": "4b85e5f8",
   "metadata": {},
   "outputs": [
    {
     "data": {
      "text/plain": [
       "['a', 'b']"
      ]
     },
     "execution_count": 11,
     "metadata": {},
     "output_type": "execute_result"
    }
   ],
   "source": [
    "spam[:2]"
   ]
  },
  {
   "cell_type": "markdown",
   "id": "de7c78f9",
   "metadata": {},
   "source": [
    "# ans 6"
   ]
  },
  {
   "cell_type": "code",
   "execution_count": 12,
   "id": "d69ad185",
   "metadata": {},
   "outputs": [
    {
     "data": {
      "text/plain": [
       "1"
      ]
     },
     "execution_count": 12,
     "metadata": {},
     "output_type": "execute_result"
    }
   ],
   "source": [
    "bacon=[3.14,'cat',11,'cat',True]\n",
    "bacon.index('cat')"
   ]
  },
  {
   "cell_type": "markdown",
   "id": "8aae596d",
   "metadata": {},
   "source": [
    "# ans 7"
   ]
  },
  {
   "cell_type": "code",
   "execution_count": 13,
   "id": "ca1c56f6",
   "metadata": {},
   "outputs": [],
   "source": [
    "bacon.append(99)"
   ]
  },
  {
   "cell_type": "code",
   "execution_count": 14,
   "id": "aa15b4e5",
   "metadata": {},
   "outputs": [
    {
     "data": {
      "text/plain": [
       "[3.14, 'cat', 11, 'cat', True, 99]"
      ]
     },
     "execution_count": 14,
     "metadata": {},
     "output_type": "execute_result"
    }
   ],
   "source": [
    "bacon"
   ]
  },
  {
   "cell_type": "markdown",
   "id": "a6eb5ac1",
   "metadata": {},
   "source": [
    "# ans 8"
   ]
  },
  {
   "cell_type": "code",
   "execution_count": 15,
   "id": "5b2ee342",
   "metadata": {},
   "outputs": [],
   "source": [
    "bacon.remove('cat')"
   ]
  },
  {
   "cell_type": "code",
   "execution_count": 16,
   "id": "e3bc33f0",
   "metadata": {},
   "outputs": [
    {
     "data": {
      "text/plain": [
       "[3.14, 11, 'cat', True, 99]"
      ]
     },
     "execution_count": 16,
     "metadata": {},
     "output_type": "execute_result"
    }
   ],
   "source": [
    "bacon"
   ]
  },
  {
   "cell_type": "markdown",
   "id": "8205af5b",
   "metadata": {},
   "source": [
    "# ans 9"
   ]
  },
  {
   "cell_type": "code",
   "execution_count": null,
   "id": "1c6d5956",
   "metadata": {},
   "outputs": [],
   "source": [
    "The operator for list concatination is +,while the\n",
    "operator for replication is *."
   ]
  },
  {
   "cell_type": "markdown",
   "id": "eefd826a",
   "metadata": {},
   "source": [
    "# ans 10"
   ]
  },
  {
   "cell_type": "code",
   "execution_count": null,
   "id": "0d954eed",
   "metadata": {},
   "outputs": [],
   "source": [
    "The only difference between append() and insert() is\n",
    "that insert function allows us to add a specific\n",
    "element at a specified index of the list unlike append() \n",
    "where we can add the element only at end of the list"
   ]
  },
  {
   "cell_type": "markdown",
   "id": "01cd7c63",
   "metadata": {},
   "source": [
    "# ans 11"
   ]
  },
  {
   "cell_type": "code",
   "execution_count": null,
   "id": "1d795215",
   "metadata": {},
   "outputs": [],
   "source": [
    "The remove() method removes the specified item.\n",
    "\n",
    "The pop() method removes the specified index.\n",
    "\n"
   ]
  },
  {
   "cell_type": "markdown",
   "id": "eea130ee",
   "metadata": {},
   "source": [
    "# ans 12"
   ]
  },
  {
   "cell_type": "code",
   "execution_count": null,
   "id": "3239d498",
   "metadata": {},
   "outputs": [],
   "source": [
    "Lists are similar to strings, which are ordered\n",
    "collections of characters, except that the \n",
    "elements of a list can have any type and for\n",
    "any one list, the items can be of different types.\n",
    "Strings and lists are similar, but they are not \n",
    "same and many people don't know the main \n",
    "difference between a string and a list in\n",
    "python. One simple difference between strings\n",
    "and lists is that lists can any type of data i.e.\n",
    "integers, characters, strings etc, while strings\n",
    "can only hold a set of characters.\n",
    "\n",
    "\n",
    "\n"
   ]
  },
  {
   "cell_type": "markdown",
   "id": "f9597aca",
   "metadata": {},
   "source": [
    "# ans 13"
   ]
  },
  {
   "cell_type": "code",
   "execution_count": null,
   "id": "e822dcdc",
   "metadata": {},
   "outputs": [],
   "source": [
    "list:\n",
    "    It is mutable.The implication of iterations is\n",
    "    time consuming in list.Operations like insertion and\n",
    "    deletion are better performed.List consumes more memory.\n",
    "    In list many built in methods are available.\n",
    "    Unexpected errors and changes can easily occur in\n",
    "    lists.\n",
    "    \n",
    "Tuple:\n",
    "    It is immutable.Implications of iterations are\n",
    "    much faster in tuples.Elements can be accessed\n",
    "    better in tuples.Consumes less memory in tuple.\n",
    "    Tuple does not have many built in methods.\n",
    "    Unexpected errors and changes rarely occur in tuples."
   ]
  },
  {
   "cell_type": "markdown",
   "id": "b5948557",
   "metadata": {},
   "source": [
    "# ans 14"
   ]
  },
  {
   "cell_type": "code",
   "execution_count": 18,
   "id": "ba21471e",
   "metadata": {},
   "outputs": [],
   "source": [
    "t=(42,)"
   ]
  },
  {
   "cell_type": "code",
   "execution_count": 19,
   "id": "6fd74c56",
   "metadata": {},
   "outputs": [
    {
     "data": {
      "text/plain": [
       "tuple"
      ]
     },
     "execution_count": 19,
     "metadata": {},
     "output_type": "execute_result"
    }
   ],
   "source": [
    "type(t)"
   ]
  },
  {
   "cell_type": "markdown",
   "id": "246dfddc",
   "metadata": {},
   "source": [
    "# ans 15"
   ]
  },
  {
   "cell_type": "code",
   "execution_count": 21,
   "id": "153f664f",
   "metadata": {},
   "outputs": [
    {
     "data": {
      "text/plain": [
       "(2, 3, 8, 4, 6, 3, 2)"
      ]
     },
     "execution_count": 21,
     "metadata": {},
     "output_type": "execute_result"
    }
   ],
   "source": [
    "l=[2,3,8,4,6,3,2]\n",
    "tuple(l)"
   ]
  },
  {
   "cell_type": "code",
   "execution_count": 22,
   "id": "8da8c89e",
   "metadata": {},
   "outputs": [
    {
     "data": {
      "text/plain": [
       "[3, 5, 1, 3, 9, 0, 2]"
      ]
     },
     "execution_count": 22,
     "metadata": {},
     "output_type": "execute_result"
    }
   ],
   "source": [
    "l=(3,5,1,3,9,0,2)\n",
    "list(l)"
   ]
  },
  {
   "cell_type": "markdown",
   "id": "fa8154ed",
   "metadata": {},
   "source": [
    "# ans 16"
   ]
  },
  {
   "cell_type": "code",
   "execution_count": null,
   "id": "c5c11134",
   "metadata": {},
   "outputs": [],
   "source": [
    "A list variable contains either a list of numeric\n",
    "values or a list of string \n",
    "values(letters,words,expressions)."
   ]
  },
  {
   "cell_type": "markdown",
   "id": "17868179",
   "metadata": {},
   "source": [
    "# ans 17"
   ]
  },
  {
   "cell_type": "code",
   "execution_count": null,
   "id": "3912cd28",
   "metadata": {},
   "outputs": [],
   "source": [
    "copy() create reference to original object. \n",
    "If you change copied object - you change\n",
    "the original object. . deepcopy() creates\n",
    "new object and does real copying of original\n",
    "object to new one. Changing new deepcopied \n",
    "object doesn't affect original object."
   ]
  }
 ],
 "metadata": {
  "kernelspec": {
   "display_name": "Python 3 (ipykernel)",
   "language": "python",
   "name": "python3"
  },
  "language_info": {
   "codemirror_mode": {
    "name": "ipython",
    "version": 3
   },
   "file_extension": ".py",
   "mimetype": "text/x-python",
   "name": "python",
   "nbconvert_exporter": "python",
   "pygments_lexer": "ipython3",
   "version": "3.9.12"
  }
 },
 "nbformat": 4,
 "nbformat_minor": 5
}
