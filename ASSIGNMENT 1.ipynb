{
 "cells": [
  {
   "cell_type": "markdown",
   "id": "21b76ca6",
   "metadata": {},
   "source": [
    "# assignment 1"
   ]
  },
  {
   "cell_type": "markdown",
   "id": "785e108f",
   "metadata": {},
   "source": [
    "# ans 1\n",
    "\n",
    "values=6,-87.8,'hello'\n",
    "expression= / , - , * ,+\n",
    "\n",
    "\n"
   ]
  },
  {
   "cell_type": "markdown",
   "id": "69d20937",
   "metadata": {},
   "source": [
    "# ans 2\n",
    "\n",
    "A variable is basically the name of the location in the primary memory of our computer.This can be choosen by us.A\n",
    "variable can store everything from strings to numbers.\n",
    "\n",
    "A string is the values inside the quotes assigned to a string.\n",
    "A variable can hold string but vice versa is not possible.\n",
    "\n",
    "A string is type of variable ,variable can be of several types like integer,floting point,string ,boolean.\n",
    "\n",
    "\n",
    "\n"
   ]
  },
  {
   "cell_type": "markdown",
   "id": "7655eeca",
   "metadata": {},
   "source": [
    "# ans 3\n",
    "\n",
    "complex data type\n",
    "tuple data type\n",
    "string data type\n"
   ]
  },
  {
   "cell_type": "markdown",
   "id": "8ac94617",
   "metadata": {},
   "source": [
    "# ans 4\n",
    "\n",
    "An expression is a combination of operators and operands that is interpreted to produce some other values.\n",
    "ex.-   p=(a+b)*(c-d)\n"
   ]
  },
  {
   "cell_type": "markdown",
   "id": "f3d165b6",
   "metadata": {},
   "source": [
    "# ans 5\n",
    "\n",
    "A statement is an instruction that the python interpreter can execute like assignment statement,while statement,for statement,if statement etc.\n",
    " \n",
    " An expression is a combination of values,variables,operators,and calls to functions.Expression needs to be evaluated.\n",
    " \n",
    " Statement in a programming language is the standalone element of the codes which is to perform a certain action.It is a part of imparative programming language commands computer to perform an action.\n",
    " whereas,\n",
    " Expressions are directed towards producing a specific value as an output.It includes operands and a operator."
   ]
  },
  {
   "cell_type": "markdown",
   "id": "6dac0b62",
   "metadata": {},
   "source": [
    "# ans 6\n",
    "\n",
    "bacon=23\n"
   ]
  },
  {
   "cell_type": "markdown",
   "id": "4c6b6fee",
   "metadata": {},
   "source": [
    "# ans 7\n",
    "\n",
    "output of both = 'spamspamspam'"
   ]
  },
  {
   "cell_type": "markdown",
   "id": "d1a2f477",
   "metadata": {},
   "source": [
    "# ans 8 \n",
    "\n",
    "variable name can not start with a number so 100 is invalid variable name."
   ]
  },
  {
   "cell_type": "markdown",
   "id": "4f758bf4",
   "metadata": {},
   "source": [
    "# ans 9\n",
    "\n",
    "int(),float(),str()"
   ]
  },
  {
   "cell_type": "markdown",
   "id": "86cb45f8",
   "metadata": {},
   "source": [
    "# ans 10\n",
    "\n",
    "for concatenaton all data types must be same ,so we can put 99 into '' .\n",
    "\n",
    "Ans= 'I have eaten' + '99' +'burritos.'\n"
   ]
  }
 ],
 "metadata": {
  "kernelspec": {
   "display_name": "Python 3 (ipykernel)",
   "language": "python",
   "name": "python3"
  },
  "language_info": {
   "codemirror_mode": {
    "name": "ipython",
    "version": 3
   },
   "file_extension": ".py",
   "mimetype": "text/x-python",
   "name": "python",
   "nbconvert_exporter": "python",
   "pygments_lexer": "ipython3",
   "version": "3.9.12"
  }
 },
 "nbformat": 4,
 "nbformat_minor": 5
}
